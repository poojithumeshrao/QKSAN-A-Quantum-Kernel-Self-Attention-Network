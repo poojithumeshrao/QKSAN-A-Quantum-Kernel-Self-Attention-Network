{
 "cells": [
  {
   "cell_type": "markdown",
   "id": "0da9700a-0dba-4568-8d0d-192866b70323",
   "metadata": {},
   "source": [
    "# QKSAN: A Quantum Kernel Self-Attention Network"
   ]
  },
  {
   "cell_type": "code",
   "execution_count": 1,
   "id": "e43cf312-3000-424b-abf6-d5974f8ae331",
   "metadata": {},
   "outputs": [],
   "source": [
    "import matplotlib.pyplot as plt\n",
    "import pennylane as qml\n",
    "from sklearn.decomposition import PCA\n",
    "from sklearn.preprocessing import StandardScaler\n",
    "from sklearn.datasets import fetch_openml\n",
    "import pandas as pd\n",
    "from pennylane import numpy as np\n",
    "from sklearn.model_selection import train_test_split\n",
    "from pennylane.optimize import NesterovMomentumOptimizer\n",
    "from sklearn.utils import shuffle\n",
    "\n",
    "%matplotlib inline\n"
   ]
  },
  {
   "cell_type": "code",
   "execution_count": 2,
   "id": "386fe395-5621-41ad-b4c5-a508a9b434de",
   "metadata": {},
   "outputs": [],
   "source": [
    "n_features = 8\n",
    "n_qubits = 4\n",
    "n_qubits_per_ansatz = 2\n",
    "n_params_per_ansatz = (2 * n_qubits_per_ansatz)-1\n",
    "n_params = 11\n",
    "batch_size = 30\n",
    "n_samples = 550\n",
    "n_test_samples = 50\n",
    "n_layers = 6\n",
    "lr = 0.09"
   ]
  },
  {
   "cell_type": "code",
   "execution_count": 3,
   "id": "4a67ae0e-e9f0-4626-a53c-26730e57f92f",
   "metadata": {},
   "outputs": [],
   "source": [
    "dev = qml.device(\"default.qubit\", wires=n_qubits)\n",
    "\n",
    "def statepreparation(x,wires):\n",
    "    qml.QubitUnitary(x,wires)\n",
    "\n",
    "def HEAnsatz(weights,wires,n_layers):\n",
    "    for layer in range(n_layers):\n",
    "        i=0\n",
    "        for wire in wires: \n",
    "            qml.Hadamard(wires=wire)\n",
    "            qml.RZ(phi=weights[i],wires = wire)\n",
    "            i+=1",
    "        for wire in wires:\n",
    "            qml.CRY(phi=weights[i],wires = [wire,(wire+1)%len(wires)])\n",
    "            i+=1",
    "\n",
    "def QAOAAnsatz(weights,wires,n_layers):\n",
    "    for layer in range(n_layers):\n",
    "        i=0\n",
    "        for wire in wires: \n",
    "            qml.Hadamard(wires=wire)\n",
    "            qml.RY(phi=weights[i],wires = wire)\n",
    "        for wire in wires:\n",
    "            qml.CNOT(wires = [wire,(wire+1)%len(wires)])\n",
    "            qml.RZ(phi=weights[i],wires = [wire])\n",
    "            qml.CNOT(wires = [wire,(wire+1)%len(wires)])\n",
    "            \n",
    "@qml.qnode(dev)\n",
    "def circuit(weights,x_1,x_2):\n",
    "    statepreparation(x_1,wires = range(n_qubits_per_ansatz))\n",
    "    HEAnsatz(weights=weights[:n_params_per_ansatz] ,wires=range(n_qubits_per_ansatz) ,n_layers = n_layers)\n",
    "\n",
    "    statepreparation(x_2,wires = range(n_qubits_per_ansatz))\n",
    "    qml.adjoint(HEAnsatz)(weights=weights[n_params_per_ansatz:2*n_params_per_ansatz] ,wires=range(n_qubits_per_ansatz) ,n_layers = n_layers)\n",
    "\n",
    "    statepreparation(x_2,wires = range(n_qubits_per_ansatz,2*n_qubits_per_ansatz))\n",
    "    HEAnsatz(weights=weights[2*n_params_per_ansatz:3*n_params_per_ansatz] ,wires=range(n_qubits_per_ansatz,2*n_qubits_per_ansatz) ,n_layers = n_layers)\n",
    "\n",
    "    measures = [qml.measure(i) for i in range(n_qubits_per_ansatz)]\n",
    "\n",
    "    for wire in range(n_qubits_per_ansatz):\n",
    "        qml.cond(measures[wire],qml.RY)(weights[n_params-wire-1],wires=n_qubits_per_ansatz + wire)\n",
    "        \n",
    "    return qml.probs(wires=[n_qubits-1])    \n",
    "\n",
    "def loss(labels,predictions):\n",
    "    tot_loss = 0\n",
    "    for l,p in zip(labels,predictions):\n",
    "        tot_loss += (l-p)**2\n",
    "    return tot_loss/len(predictions)\n",
    "\n",
    "def get_unitary_amp_embed(feature,n_qubits,adjoint = False):\n",
    "    if adjoint:\n",
    "        return qml.matrix(qml.adjoint(qml.AmplitudeEmbedding(features=feature, wires=range(n_qubits),normalize=True)))\n",
    "    else:\n",
    "        return qml.matrix(qml.AmplitudeEmbedding(features=feature, wires=range(n_qubits),normalize=True))\n",
    "\n",
    "def cost(weights, X, Y):\n",
    "    predictions = [circuit(weights, get_unitary_amp_embed(x[:4],2),get_unitary_amp_embed(x[4:],2,adjoint = True))[0] for x in X]\n",
    "    return loss(Y, predictions)\n",
    "\n",
    "def accuracy(labels, predictions):\n",
    "\n",
    "    tot_loss = 0\n",
    "    for l, p in zip(labels, predictions):\n",
    "        if abs(l - p) < 1e-5:\n",
    "            tot_loss += 1\n",
    "    tot_loss  /= len(labels)\n",
    "\n",
    "    return tot_loss"
   ]
  },
  {
   "cell_type": "code",
   "execution_count": 4,
   "id": "82cbfb1c-75a8-479d-9d31-ce870e0bf8ee",
   "metadata": {},
   "outputs": [
    {
     "name": "stderr",
     "output_type": "stream",
     "text": [
      "/home/poojithurao/miniconda3/envs/qiskit/lib/python3.10/site-packages/sklearn/datasets/_openml.py:1002: FutureWarning: The default value of `parser` will change from `'liac-arff'` to `'auto'` in 1.4. You can set `parser='auto'` to silence this warning. Therefore, an `ImportError` will be raised from 1.4 if the dataset is dense and pandas is not installed. Note that the pandas parser may return different data types. See the Notes Section in fetch_openml's API doc for details.\n",
      "  warn(\n"
     ]
    }
   ],
   "source": [
    "mnist = fetch_openml('mnist_784')\n",
    "\n",
    "pca = PCA(n_components=n_features)\n",
    "scaler = StandardScaler()\n",
    "\n",
    "y_0 = mnist.target[(mnist.target == '0')].sample(n=n_samples, random_state=1)\n",
    "y_1 = mnist.target[(mnist.target == '1')].sample(n=n_samples, random_state=1)\n",
    "\n",
    "X_0 = mnist.data.iloc[y_0]\n",
    "X_1 = mnist.data.iloc[y_1]\n",
    "\n",
    "y_0 = y_0.to_numpy(dtype=np.int_)\n",
    "y_1 = y_1.to_numpy(dtype=np.int_)\n",
    "\n",
    "X_train = np.concatenate((X_0[:n_samples-n_test_samples],X_1[:n_samples-n_test_samples]))\n",
    "y_train = np.concatenate((y_0[:n_samples-n_test_samples],y_1[:n_samples-n_test_samples]))\n",
    "X_train, y_train = shuffle(X_train, y_train, random_state=1)\n",
    "\n",
    "X_test = np.concatenate((X_0[-n_test_samples:],X_1[-n_test_samples:]))\n",
    "y_test = np.concatenate((y_0[-n_test_samples:],y_1[-n_test_samples:]))\n",
    "X_test, y_test = shuffle(X_test, y_test, random_state=1)\n",
    "\n",
    "X_train = pca.fit_transform(X_train)\n",
    "X_test = pca.fit_transform(X_test)\n",
    "\n",
    "X_train = scaler.fit_transform(X_train)\n",
    "X_test = scaler.fit_transform(X_test)"
   ]
  },
  {
   "cell_type": "code",
   "execution_count": 5,
   "id": "8e866422-9a39-4bcd-ab6a-c975e2074690",
   "metadata": {},
   "outputs": [],
   "source": [
    "weights = np.random.randn(n_params, requires_grad=True)\n",
    "opt = NesterovMomentumOptimizer(lr)\n"
   ]
  },
  {
   "cell_type": "code",
   "execution_count": 6,
   "id": "9c364f0e-b9b7-44c6-9dbb-d555f9a51a10",
   "metadata": {},
   "outputs": [
    {
     "name": "stdout",
     "output_type": "stream",
     "text": [
      "Iter:     1 | Cost: 0.3098034 | Accuracy: 0.4980000 \n",
      "Iter:    11 | Cost: 0.1405104 | Accuracy: 0.9870000 \n",
      "Iter:    21 | Cost: 0.1116589 | Accuracy: 0.9930000 \n",
      "Iter:    31 | Cost: 0.1142952 | Accuracy: 0.9930000 \n",
      "Iter:    41 | Cost: 0.1129545 | Accuracy: 0.9930000 \n",
      "Iter:    51 | Cost: 0.1118168 | Accuracy: 0.9930000 \n",
      "Iter:    61 | Cost: 0.1121662 | Accuracy: 0.9920000 \n",
      "Iter:    71 | Cost: 0.1120027 | Accuracy: 0.9930000 \n",
      "Iter:    81 | Cost: 0.1129731 | Accuracy: 0.9920000 \n",
      "Iter:    91 | Cost: 0.1119163 | Accuracy: 0.9920000 \n",
      "Iter:   101 | Cost: 0.1123493 | Accuracy: 0.9930000 \n",
      "Iter:   111 | Cost: 0.1141438 | Accuracy: 0.9920000 \n"
     ]
    }
   ],
   "source": [
    "accuracy_list = []\n",
    "cost_list = []\n",
    "for it in range(120):\n",
    "    batch_index = np.random.randint(0, len(X_train), (batch_size,))\n",
    "    X_batch = X_train[batch_index]\n",
    "    Y_batch = y_train[batch_index]\n",
    "    weights, _, _ = opt.step(cost, weights, X_batch, Y_batch)\n",
    "\n",
    "    # Compute accuracy\n",
    "    predictions = [np.rint(circuit(weights, get_unitary_amp_embed(x[:4],2),get_unitary_amp_embed(x[4:],2,adjoint = True))[0]) for x in X_train]\n",
    "    accuracy_list.append(accuracy(y_train, predictions))\n",
    "    cost_list.append(cost(weights, X_train, y_train))\n",
    "    if it%10 == 0:\n",
    "        print(\n",
    "            \"Iter: {:5d} | Cost: {:0.7f} | Accuracy: {:0.7f} \".format(it + 1, cost_list[-1] , accuracy_list[-1]    )\n",
    "        )"
   ]
  },
  {
   "cell_type": "code",
   "execution_count": 7,
   "id": "5240856d-86cf-40af-b64c-4c425070e4ff",
   "metadata": {},
   "outputs": [
    {
     "data": {
      "image/png": "[encoded data removed]",
      "text/plain": [
       "<Figure size 640x480 with 1 Axes>"
      ]
     },
     "metadata": {},
     "output_type": "display_data"
    }
   ],
   "source": [
    "plt.plot(cost_list)\n",
    "plt.xlabel(\"Iterations\")\n",
    "plt.ylabel(\"cost\")\n",
    "plt.show()"
   ]
  },
  {
   "cell_type": "code",
   "execution_count": 8,
   "id": "efcd5642",
   "metadata": {},
   "outputs": [
    {
     "data": {
      "image/png": "[encoded data removed]",
      "text/plain": [
       "<Figure size 640x480 with 1 Axes>"
      ]
     },
     "metadata": {},
     "output_type": "display_data"
    }
   ],
   "source": [
    "plt.plot(accuracy_list)\n",
    "plt.xlabel(\"Iterations\")\n",
    "plt.ylabel(\"Train accuracy\")\n",
    "plt.show()"
   ]
  },
  {
   "cell_type": "code",
   "execution_count": 9,
   "id": "d14fb2fe-1739-4cb1-9631-b12a97368a20",
   "metadata": {},
   "outputs": [
    {
     "name": "stdout",
     "output_type": "stream",
     "text": [
      "Test Accuracy: 0.9600000 \n"
     ]
    }
   ],
   "source": [
    "predictions = [np.rint(circuit(weights, get_unitary_amp_embed(x[:4],2),get_unitary_amp_embed(x[4:],2,adjoint = True))[0]) for x in X_test]\n",
    "acc = accuracy(y_test, predictions)\n",
    "\n",
    "print(\"Test Accuracy: {:0.7f} \".format(acc))"
   ]
  }
 ],
 "metadata": {
  "kernelspec": {
   "display_name": "Python 3 (ipykernel)",
   "language": "python",
   "name": "python3"
  },
  "language_info": {
   "codemirror_mode": {
    "name": "ipython",
    "version": 3
   },
   "file_extension": ".py",
   "mimetype": "text/x-python",
   "name": "python",
   "nbconvert_exporter": "python",
   "pygments_lexer": "ipython3",
   "version": "3.10.12"
  }
 },
 "nbformat": 4,
 "nbformat_minor": 5
}
